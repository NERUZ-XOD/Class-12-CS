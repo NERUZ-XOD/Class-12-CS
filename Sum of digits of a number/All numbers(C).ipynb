number = input("Enter a number (can be negative or decimal): ")

# Initialize sum
digit_sum = 0
digits = []

# Loop through each character
for char in number:
    if char.isdigit():
        digits.append(char)
        digit_sum += int(char)

print("Digits:", digits)
print("Sum of digits:", digit_sum)
