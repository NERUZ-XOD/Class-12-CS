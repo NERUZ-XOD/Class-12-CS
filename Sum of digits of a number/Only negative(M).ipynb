number = int(input("Enter the number : "))
sum = 0
digits = list(str(number))
while number != 0:
    sum += number % 10
    number = number // 10
print('Digits: ',digits)
print('Sum: ',sum)
