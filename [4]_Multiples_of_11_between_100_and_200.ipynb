{
  "nbformat": 4,
  "nbformat_minor": 0,
  "metadata": {
    "colab": {
      "provenance": [],
      "authorship_tag": "ABX9TyOapK2mf3L6/sNZH5CIBRP6",
      "include_colab_link": true
    },
    "kernelspec": {
      "name": "python3",
      "display_name": "Python 3"
    },
    "language_info": {
      "name": "python"
    }
  },
  "cells": [
    {
      "cell_type": "markdown",
      "metadata": {
        "id": "view-in-github",
        "colab_type": "text"
      },
      "source": [
        "<a href=\"https://colab.research.google.com/github/NERUZ-XOD/Class-12-CS/blob/main/%5B4%5D_Multiples_of_11_between_100_and_200.ipynb\" target=\"_parent\"><img src=\"https://colab.research.google.com/assets/colab-badge.svg\" alt=\"Open In Colab\"/></a>"
      ]
    },
    {
      "cell_type": "code",
      "execution_count": null,
      "metadata": {
        "id": "hMxT1RweRLJ-"
      },
      "outputs": [],
      "source": [
        "for i in range(100, 201):\n",
        "    if i % 11 == 0:\n",
        "        print(\"11 x \",i// 11, \"=\", i)"
      ]
    }
  ]
}