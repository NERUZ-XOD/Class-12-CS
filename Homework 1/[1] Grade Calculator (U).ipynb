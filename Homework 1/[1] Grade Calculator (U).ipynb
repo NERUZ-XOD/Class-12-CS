{
 "cells": [
  {
   "cell_type": "code",
   "execution_count": null,
   "metadata": {
    "id": "73B98yXeHy_X"
   },
   "outputs": [],
   "source": [
    "mark = float(input(\"Enter your mark : \"))\n",
    "\n",
    "if mark >= 90:\n",
    "    grade = 'A'\n",
    "elif mark > 80 and mark < 90:\n",
    "    grade = 'B'\n",
    "elif mark > 70 and mark <= 80:\n",
    "    grade = 'C'\n",
    "elif mark > 60 and mark <= 70:\n",
    "    grade = 'D'\n",
    "else:\n",
    "    grade = 'E'\n",
    "\n",
    "print(\"Your grade is: \", grade)"
   ]
  }
 ],
 "metadata": {
  "colab": {
   "authorship_tag": "ABX9TyOIfJNOHJ1HmV3FTmH7NfHx",
   "provenance": []
  },
  "kernelspec": {
   "display_name": "Python 3",
   "name": "python3"
  },
  "language_info": {
   "name": "python",
   "version": "3.13.3"
  }
 },
 "nbformat": 4,
 "nbformat_minor": 0
}
