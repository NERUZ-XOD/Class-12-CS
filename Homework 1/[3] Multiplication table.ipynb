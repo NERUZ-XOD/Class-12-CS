{
 "cells": [
  {
   "cell_type": "code",
   "execution_count": null,
   "metadata": {
    "id": "o8hjf6sfPpY-"
   },
   "outputs": [],
   "source": [
    "number = int(input(\"Enter a number: \"))\n",
    "times = int(input(\"Enter the number of times to multiply: \"))\n",
    "print(\"Multiplication table for\", number,\"from 1 to 10:\")\n",
    "for i in range(1, times + 1):\n",
    "    result = number * i\n",
    "    print(number,\"x\", i, \"=\", result)"
   ]
  }
 ],
 "metadata": {
  "colab": {
   "authorship_tag": "ABX9TyNDDWf5KAZAZTe9cKHGAM3e",
   "provenance": []
  },
  "kernelspec": {
   "display_name": "Python 3",
   "name": "python3"
  },
  "language_info": {
   "name": "python"
  }
 },
 "nbformat": 4,
 "nbformat_minor": 0
}
